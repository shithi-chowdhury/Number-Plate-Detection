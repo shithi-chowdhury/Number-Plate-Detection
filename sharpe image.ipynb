{
 "cells": [
  {
   "cell_type": "code",
   "execution_count": 1,
   "id": "e0f27d5d",
   "metadata": {},
   "outputs": [],
   "source": [
    "import cv2\n",
    "import numpy as np"
   ]
  },
  {
   "cell_type": "code",
   "execution_count": 2,
   "id": "df451f79",
   "metadata": {},
   "outputs": [],
   "source": [
    "img = cv2.imread(\"tuki.jpg\")"
   ]
  },
  {
   "cell_type": "code",
   "execution_count": 3,
   "id": "b948318e",
   "metadata": {},
   "outputs": [],
   "source": [
    "kernel_sharpening = np.array([[-1,-1,-1], \n",
    "                              [-1, 9,-1],\n",
    "                              [-1,-1,-1]])"
   ]
  },
  {
   "cell_type": "code",
   "execution_count": 4,
   "id": "87ddf9df",
   "metadata": {},
   "outputs": [],
   "source": [
    "sharpened = cv2.filter2D(img,-1,kernel_sharpening)"
   ]
  },
  {
   "cell_type": "code",
   "execution_count": 5,
   "id": "98b5c9a0",
   "metadata": {},
   "outputs": [
    {
     "name": "stdout",
     "output_type": "stream",
     "text": [
      "Image Sharpened.\n"
     ]
    }
   ],
   "source": [
    "print('Image Sharpened.')"
   ]
  },
  {
   "cell_type": "code",
   "execution_count": null,
   "id": "675fc1dc",
   "metadata": {},
   "outputs": [],
   "source": [
    "cv2.imshow('ORIGINAL',img)\n",
    "cv2.imshow('SHARPEN',sharpened)\n",
    "cv2.waitKey(0)\n",
    "cv2.destroyAllWindows()"
   ]
  },
  {
   "cell_type": "code",
   "execution_count": null,
   "id": "26256f82",
   "metadata": {},
   "outputs": [],
   "source": []
  }
 ],
 "metadata": {
  "kernelspec": {
   "display_name": "Python 3",
   "language": "python",
   "name": "python3"
  },
  "language_info": {
   "codemirror_mode": {
    "name": "ipython",
    "version": 3
   },
   "file_extension": ".py",
   "mimetype": "text/x-python",
   "name": "python",
   "nbconvert_exporter": "python",
   "pygments_lexer": "ipython3",
   "version": "3.8.8"
  }
 },
 "nbformat": 4,
 "nbformat_minor": 5
}
